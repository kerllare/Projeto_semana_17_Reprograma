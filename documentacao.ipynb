{
 "cells": [
  {
   "cell_type": "markdown",
   "metadata": {},
   "source": [
    "## Contexto\n"
   ]
  },
  {
   "cell_type": "markdown",
   "metadata": {},
   "source": [
    "No contexto do estudo sobre igualdade de gênero e desenvolvimento humano, exploraremos um indicador significativo fornecido pela Organização das Nações Unidas (ONU): o número médio de horas despendidas em trabalho doméstico e de cuidados não remunerado. Este indicador, crucial para compreender as dinâmicas de gênero em diferentes regiões, nos permite analisar como as responsabilidades não remuneradas são distribuídas entre os gêneros binários, levando em consideração a idade e a localização geográfica.\n",
    "\n",
    "Após devidos tratamentos, foi gerado um novo dataset, que vamos chamar nesta documentação, de dataset 2.\n",
    "\n",
    "Também utilizamos ao final, dados de Índice de Desenvolvimento Humano (IDH), nas regiões de objetivos de desenvolvimento sustentável da ONU (mesmas regiões dos datasets 1 e 2) e unimos a dados do dataset 2  + dados resultantes da análise, e exportamos em um novo csv, o qual chamaremos de dataset 3.\n"
   ]
  },
  {
   "cell_type": "markdown",
   "metadata": {},
   "source": [
    "- DATASET 1: Número médio de horas despendidas em trabalho doméstico e de cuidados não remunerado, por sexo, idade e localização ('trabalho_nao_remunerado.csv')\n",
    "\n",
    "Fonte https://gender-data-hub-2-undesa.hub.arcgis.com/pages/indicators\n",
    "\n",
    "\n",
    "- DATASET 2: Gerado após tratamento do dataset 1 ('novo_dataframe.csv')\n",
    "\n",
    "- DATASET 3: Une dados de IDH das regiões do dataset 2, com dados de resultado da análise ('dados_combinados.csv')\n",
    "\n",
    "Fonte dados IDH https://hdr.undp.org/data-center/human-development-index#/indicies/HDI"
   ]
  },
  {
   "cell_type": "markdown",
   "metadata": {},
   "source": [
    "## DATASET 1\n"
   ]
  },
  {
   "cell_type": "markdown",
   "metadata": {},
   "source": [
    "'trabalho_nao_remunerado.csv'"
   ]
  },
  {
   "cell_type": "markdown",
   "metadata": {},
   "source": [
    "Indicador : Número médio de horas gastas em trabalho doméstico e de cuidados não remunerado, por sexo, idade e localização\n",
    "\n",
    "Séries : - Número médio de horas despendidas em trabalho doméstico e de cuidados não remunerado, por sexo, idade e localização - Número médio de horas despendidas em trabalho doméstico não remunerado, por sexo, idade e localização - Número médio de horas despendidas em trabalho de cuidados não remunerado, por sexo, idade e localização"
   ]
  },
  {
   "cell_type": "markdown",
   "metadata": {},
   "source": [
    "Agência : Divisão de Estatística das Nações Unidas (UNSD)/ONU Mulheres"
   ]
  },
  {
   "cell_type": "markdown",
   "metadata": {},
   "source": [
    "Definição acordada internacionalmente\n",
    "\n",
    "Este indicador é definido como o tempo passado num dia em trabalho doméstico e de cuidados não remunerado por homens e mulheres. O trabalho doméstico e de cuidados não remunerado refere-se a atividades relacionadas com a prestação de serviços para uso final próprio por membros do agregado familiar, ou por membros da família que vivem noutros agregados familiares. Estas atividades estão listadas na Classificação Internacional de Atividades para Estatísticas de Uso do Tempo 2016 (ICATUS 2016) nas divisões principais \"3. Serviços domésticos não remunerados para agregados familiares e familiares\" e \"4. Serviços de cuidados não remunerados para agregados familiares e familiares\".\n",
    "\n",
    "O trabalho doméstico não remunerado refere-se a actividades que incluem a gestão e preparação de alimentos e refeições, limpeza e manutenção da própria habitação e arredores, decoração “faça você mesmo”, manutenção e reparação de bens pessoais e domésticos, cuidado e manutenção de têxteis e calçado, gestão doméstica, cuidados com animais de estimação, compras para a própria casa e familiares e viagens relacionadas a serviços domésticos não remunerados listados anteriormente.\n",
    "\n",
    "O trabalho de cuidados não remunerado refere-se a atividades relacionadas com cuidados e instrução de crianças, cuidados a familiares e familiares doentes, idosos ou deficientes, ajuda a agregados familiares e familiares adultos não dependentes e viagens relacionadas com estes serviços de cuidados não remunerados."
   ]
  },
  {
   "cell_type": "markdown",
   "metadata": {},
   "source": [
    "Método de cálculo\n",
    "\n",
    "Os dados apresentados para este indicador são expressos como o número médio diário de horas e são calculados como o número total de horas gastas diariamente em atividades domésticas e de cuidados não remuneradas dividido pela população total (independentemente de terem participado ou não nessas atividades).\n",
    "\n",
    "Se os dados sobre o tempo gasto em trabalho doméstico e de cuidados não remunerado forem recolhidos ao longo de uma semana, será calculada a média dos dados ao longo de sete dias da semana para obter estimativas diárias.\n",
    "\n",
    "Note-se que este indicador é complementar ao indicador ODS 5.4.1 Proporção de tempo gasto em trabalho doméstico e de cuidados não remunerado que é calculado dividindo o indicador I.1 por 24 e multiplicando por 100.\n",
    "\n",
    "Tanto quanto possível, as estatísticas compiladas pela UNSD baseiam-se na Classificação Internacional de Atividades para Estatísticas de Uso do Tempo 2016 (ICATUS 2016), que classifica as atividades realizadas pelas pessoas durante o período do inquérito. O ICATUS 2016 foi adotado pela Comissão de Estatística das Nações Unidas para utilização como classificação estatística internacional na sua 48ª sessão, de 7 a 10 de março de 2017.\n",
    "\n",
    "Desagregação Os dados disponíveis estão actualmente desagregados por sexo, idade e localização da seguinte forma:\n",
    "\n",
    "Sexo: feminino/masculino; Idade: as faixas etárias recomendadas são: 15+, 15-24, 25-44, 45-54, 55-64 e 65+; Localização: urbana/rural (seguindo definições nacionais dada a falta de definição internacional)"
   ]
  },
  {
   "cell_type": "markdown",
   "metadata": {},
   "source": [
    "Processo de obtenção de dados\n",
    "\n",
    "A maioria dos dados sobre a utilização do tempo é recolhida através de inquéritos dedicados à utilização do tempo ou de módulos de utilização do tempo integrados em inquéritos aos agregados familiares polivalentes, realizados a nível nacional. Os dados sobre o uso do tempo podem ser coletados por meio de um diário de 24 horas ou de um questionário estilizado. Com os diários, pede-se aos entrevistados que relatem que atividade estavam realizando quando começaram o dia, que atividade se seguiu e a hora em que essa atividade começou e terminou (na maioria dos casos com base em intervalos fixos), e assim por diante durante os 24 dias. horas do dia. Perguntas estilizadas sobre o uso do tempo pedem aos entrevistados que se lembrem da quantidade de tempo que dedicaram a uma determinada atividade durante um período específico, como um dia ou uma semana. A maior parte dos dados é fornecida e validada pelos institutos nacionais de estatística. Em alguns casos, os dados foram obtidos de bases de dados e publicações nacionais publicamente disponíveis. A UNSD comunica com os países se houver inconsistências ou possíveis erros nos dados. Para alguns países, os dados são obtidos a partir de compilações de dados regionais (Eurostat, OCDE, UNECE e UNECAL)."
   ]
  },
  {
   "cell_type": "markdown",
   "metadata": {},
   "source": [
    "Fonte: https://gender-data-hub-2-undesa.hub.arcgis.com/pages/indicators#Theme3"
   ]
  },
  {
   "cell_type": "markdown",
   "metadata": {},
   "source": [
    "## DATASET 2"
   ]
  },
  {
   "cell_type": "markdown",
   "metadata": {},
   "source": [
    "'novo_dataframe.csv'"
   ]
  },
  {
   "cell_type": "markdown",
   "metadata": {},
   "source": [
    "Gerado após tratamentos e seleção de colunas pertinentes à análise\n",
    "\n",
    "- Area de Referencia (Area de Referencia Description):\n",
    "\n",
    "Descreve a área geográfica ou região específica relacionada aos dados. Exemplo: \"Mongolia,\" \"Chile,\" \"Austria.\"\n",
    "\n",
    "- Regiao SDG (SDG Region):\n",
    "\n",
    "Indica a região associada aos Objetivos de Desenvolvimento Sustentável (SDG). Exemplo: \"Eastern and South-Eastern Asia,\" \"Latin America and the Caribbean,\" \"Europe and Northern America.\"\n",
    "\n",
    "- Periodo de Tempo (Time Period):\n",
    "\n",
    "Refere-se ao ano em que os dados foram registrados. Exemplo: 2015, 2009.\n",
    "\n",
    "- Genero (Gender Description):\n",
    "\n",
    "Descreve o gênero relacionado aos dados. Exemplo: \"Female,\" \"Male.\"\n",
    "\n",
    "- Idade (Age Description):\n",
    "\n",
    "Descreve a faixa etária associada aos dados. Exemplo: \"12 to 14 years old,\" \"10 years old and over.\"\n",
    "\n",
    "- Valor Observado (Observed Value):\n",
    "\n",
    "Representa o valor específico observado para o indicador. Exemplo: 2.625 (Horas por dia), 4.398877 (Horas por dia).\n",
    "\n",
    "- Descricao Unidade de Medida (Unit of Measure Description):\n",
    "\n",
    "Descreve a unidade de medida associada ao valor observado. Exemplo: \"Hours per day.\"\n",
    "\n",
    "- Ano da Fonte (Source Year):\n",
    "\n",
    "Indica o ano da fonte dos dados. Exemplo: 2022.\n",
    "\n",
    "- Ano Mais Recente (Is Latest Year):\n",
    "\n",
    "Indica se o ano é o mais recente para o indicador (valor binário). Exemplo: 1.0 (Sim, é o ano mais recente)."
   ]
  },
  {
   "cell_type": "markdown",
   "metadata": {},
   "source": [
    "## DATASET 3"
   ]
  },
  {
   "cell_type": "markdown",
   "metadata": {},
   "source": [
    "'dados_combinados.csv'"
   ]
  },
  {
   "cell_type": "markdown",
   "metadata": {},
   "source": [
    "Elaboramos um novo arquivo CSV que integra os resultados da análise:\n",
    " - escala progressiva de disparidade de gênero, representada pelos números 1, 2, 3, 4, 5, 6, 7, 8 \n",
    " - a faixa etária com maior média de trabalho não remunerado, por região, considerando a idade de início (15 anos)\n",
    "\n",
    "Os associando ao Índice de Desenvolvimento Humano (IDH) por região, conforme definido pela ONU:\n",
    "\n",
    "\n",
    "Classificação em 2021| Região                                            \n",
    "\n",
    "| Very high     | Australia and New Zealand                        \n",
    "| Very high     | Europe and Northern America                       \n",
    "| High          | Eastern Asia and South-Eastern Asia               \n",
    "| High          | Latin America and the Caribbean                   \n",
    "| High          | Northern Africa and Western Asia                  \n",
    "| Medium        | Sub-Saharan Africa                                \n",
    "| Medium        | Central Asia and Southern Asia                    \n",
    "| Medium        | Oceania (excluding Australia and New Zealand)   \n",
    "\n",
    "\n",
    "\n",
    "## importante\n",
    "\n",
    "Very High = maior IDH entre as regiões\n",
    "\n",
    "High = alto, mas de IDH intermediário entre as regiões\n",
    "\n",
    "Medium = menor IDH entre as regiões\n",
    "\n"
   ]
  },
  {
   "cell_type": "markdown",
   "metadata": {},
   "source": [
    "\n",
    "Fonte IDH: https://hdr.undp.org/data-center/human-development-index#/indicies/HDI"
   ]
  },
  {
   "cell_type": "markdown",
   "metadata": {},
   "source": [
    "## Objetivos do projeto\n",
    "\n",
    "Ao abordar questões de igualdade e desenvolvimento, nosso objetivo é lançar luz sobre as diferentes realidades enfrentadas por mulheres em várias partes do mundo, contribuindo para discussões mais amplas sobre equidade e políticas públicas.\n",
    "\n",
    "Ao longo do notebook, examinaremos a correlação entre o IDH e a disparidade de gênero, identificando padrões específicos em diferentes regiões e faixas etárias. A análise visa fornecer insights valiosos para informar iniciativas e estratégias voltadas para a promoção da igualdade de gênero e o desenvolvimento sustentável.\n"
   ]
  },
  {
   "cell_type": "markdown",
   "metadata": {},
   "source": [
    "## Ferramentas utilizadas\n",
    "\n",
    "Visual Studio Code com extensão de Jupyter Notebook"
   ]
  },
  {
   "cell_type": "markdown",
   "metadata": {},
   "source": [
    "## Código\n",
    "\n",
    "Escrito em linguagem de programação Python, utilizando as bibliotecas: pandas, matplotlib.pyplot e seaborn "
   ]
  },
  {
   "cell_type": "markdown",
   "metadata": {},
   "source": [
    "## Outros\n",
    "\n",
    "O notebook está organizado com textos explicativos em markdown"
   ]
  },
  {
   "cell_type": "markdown",
   "metadata": {},
   "source": [
    "## Contato\n",
    "\n",
    "Para dúvidas referentes à documentação ou outros esclarecimentos: kerllaregina@gmail.com"
   ]
  }
 ],
 "metadata": {
  "language_info": {
   "name": "python"
  }
 },
 "nbformat": 4,
 "nbformat_minor": 2
}
